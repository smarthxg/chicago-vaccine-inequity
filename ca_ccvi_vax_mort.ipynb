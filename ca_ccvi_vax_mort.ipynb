{
  "nbformat": 4,
  "nbformat_minor": 0,
  "metadata": {
    "colab": {
      "name": "ca_ccvi_vax_mort.ipynb",
      "provenance": [],
      "collapsed_sections": []
    },
    "kernelspec": {
      "name": "python3",
      "display_name": "Python 3"
    },
    "language_info": {
      "name": "python"
    }
  },
  "cells": [
    {
      "cell_type": "code",
      "metadata": {
        "id": "qH9s-RtspGq_"
      },
      "source": [
        "# installs\n",
        "# !pip install ipdb dateparser"
      ],
      "execution_count": 1,
      "outputs": []
    },
    {
      "cell_type": "code",
      "metadata": {
        "id": "NONgL3D-7Bpj"
      },
      "source": [
        "# imports\n",
        "import csv, requests, json, dateutil, datetime, dateparser\n",
        "import pandas as pd"
      ],
      "execution_count": 2,
      "outputs": []
    },
    {
      "cell_type": "code",
      "metadata": {
        "id": "RORpwOp-9lnX"
      },
      "source": [
        "# configs\n",
        "ccvi_file_path = 'ccvi.csv'\n",
        "ccme_file_url = 'https://raw.githubusercontent.com/beamalsky/medical-examiner-data/master/src/data/final/cases.json'\n",
        "vax_file_path = 'vax_by_CA_112021.csv'\n",
        "vax_supply_path = \"doses_by_community.csv\"\n",
        "output_file_path = 'combined_ca_data.csv'\n",
        "spring_wave_start_date = datetime.datetime(2021,3,28)"
      ],
      "execution_count": 3,
      "outputs": []
    },
    {
      "cell_type": "code",
      "metadata": {
        "id": "AlRjm0Gd91TL"
      },
      "source": [
        "# get names, ccvi\n",
        "ccvi = [x for x in csv.DictReader(open(ccvi_file_path))]"
      ],
      "execution_count": 4,
      "outputs": []
    },
    {
      "cell_type": "code",
      "metadata": {
        "id": "uTmFYXMA-Km-"
      },
      "source": [
        "# get mortality\n",
        "mortality_by_ca = json.loads(requests.get(ccme_file_url).content)\n",
        "ca_decedents = dict()\n",
        "for decedent in mortality_by_ca:\n",
        "    if decedent['community'] not in ca_decedents:\n",
        "        ca_decedents[decedent['community']] = []\n",
        "    ca_decedents[decedent['community']].append(decedent)"
      ],
      "execution_count": 5,
      "outputs": []
    },
    {
      "cell_type": "code",
      "metadata": {
        "id": "pUbIJqkO_zQB"
      },
      "source": [
        "# get vax rate\n",
        "ca_rates = [x for x in csv.DictReader(open(vax_file_path))] "
      ],
      "execution_count": 6,
      "outputs": []
    },
    {
      "cell_type": "code",
      "metadata": {
        "id": "ZswEibQtd-IS",
        "colab": {
          "base_uri": "https://localhost:8080/"
        },
        "outputId": "1e94a2c0-9059-47ed-813e-37ee797d58c2"
      },
      "source": [
        "# protect chicago\n",
        "pcps = \"\"\"Archer Heights\n",
        "Austin\n",
        "Belmont Cragin\n",
        "Chicago Lawn\n",
        "Englewood\n",
        "Gage Park\n",
        "Humboldt Park\n",
        "Montclare\n",
        "New City\n",
        "North Lawndale\n",
        "Roseland\n",
        "South Deering\n",
        "Little Village\n",
        "Washington Heights\n",
        "West Englewood\"\"\".splitlines()\n",
        "pcps"
      ],
      "execution_count": 7,
      "outputs": [
        {
          "output_type": "execute_result",
          "data": {
            "text/plain": [
              "['Archer Heights',\n",
              " 'Austin',\n",
              " 'Belmont Cragin',\n",
              " 'Chicago Lawn',\n",
              " 'Englewood',\n",
              " 'Gage Park',\n",
              " 'Humboldt Park',\n",
              " 'Montclare',\n",
              " 'New City',\n",
              " 'North Lawndale',\n",
              " 'Roseland',\n",
              " 'South Deering',\n",
              " 'Little Village',\n",
              " 'Washington Heights',\n",
              " 'West Englewood']"
            ]
          },
          "metadata": {},
          "execution_count": 7
        }
      ]
    },
    {
      "cell_type": "code",
      "metadata": {
        "id": "eSwBfMbw6IZ-"
      },
      "source": [
        "# transform keys\n",
        "\n",
        "# fixes inconsistent/misnamed community areas that are keyed in various ways \n",
        "# ... NOTE key renames will fail if re-ran as a cell (ctrl + f9 to run all)\n",
        "ca_decedents['Little Village'] = ca_decedents.pop('SOUTH LAWNDALE (LITTLE VILLAGE)')\n",
        "ca_decedents['Pilsen'] = ca_decedents.pop('LOWER WEST SIDE (PILSEN)')\n",
        "\n",
        "ccvi_lv = [x for x in ccvi if x['Community Area'] == 'South Lawndale'][0]\n",
        "ccvi_lv['Community Area'] = 'Little Village'\n",
        "ccvi_p = [x for x in ccvi if x['Community Area'] == 'Lower West Side'][0]\n",
        "ccvi_p['Community Area'] = 'Pilsen'\n",
        "\n",
        "lv_rate = [x for x in ca_rates if x['Community Area'] == 'SOUTH LAWNDALE'][0]\n",
        "lv_rate['Community Area'] = 'Little Village'\n",
        "p_rate = [x for x in ca_rates if x['Community Area'] == 'LOWER WEST SIDE'][0]\n",
        "p_rate['Community Area'] = 'Pilsen'\n",
        "o_rate = [ x for x in ca_rates if x['Community Area'] == 'OHARE'][0]\n",
        "o_rate['Community Area'] = \"O'HARE\"\n",
        "\n",
        "# missing from CCVI\n",
        "ccvi.append({'Community Area':'Burnside','CCVI': None, 'Population': 2254})\n",
        "ccvi.append({'Community Area':'Fuller Park','CCVI': None, 'Population': 2399}) # TODO verify"
      ],
      "execution_count": 8,
      "outputs": []
    },
    {
      "cell_type": "code",
      "metadata": {
        "id": "qwIN96meaAV6",
        "colab": {
          "base_uri": "https://localhost:8080/"
        },
        "outputId": "577cc590-4656-45cb-af18-5ca8b43bbc35"
      },
      "source": [
        "# join ca data\n",
        "ca_data = dict()\n",
        "\n",
        "# ccvi\n",
        "for ca in ccvi:\n",
        "    ca_data[ca['Community Area'].title()] = {'CCVI':ca['CCVI'],'pop':int(ca['Population'])}\n",
        "\n",
        "# ccme\n",
        "for ca in ca_decedents:\n",
        "    if ca and ca.title() in ca_data:\n",
        "        # all deaths\n",
        "        ca_data[ca.title()]['deaths'] = len(ca_decedents[ca])\n",
        "        # all deaths since spring wave\n",
        "        ca_data[ca.title()]['deaths_since_spring'] = len([x for x in ca_decedents[ca] if dateparser.parse(x['death_date']) > spring_wave_start_date])\n",
        "    else:\n",
        "        print(ca,'found in ccme but not ca_data')\n",
        "\n",
        "# vax\n",
        "for ca in ca_rates:\n",
        "    ca_name = ca['Community Area'].title()\n",
        "    if ca_name and ca_name in ca_data:\n",
        "        ca_data[ca_name]['complete_vax'] = ca['% Complete Series']\n",
        "    else:\n",
        "        print(ca_name,'found in vax but not ca_data')\n",
        "\n",
        "# pcps\n",
        "for ca in ca_data:\n",
        "    if ca in pcps:\n",
        "        ca_data[ca]['PCP'] = True\n",
        "    else:\n",
        "        ca_data[ca]['PCP'] = False"
      ],
      "execution_count": 9,
      "outputs": [
        {
          "output_type": "stream",
          "name": "stdout",
          "text": [
            "None found in ccme but not ca_data\n"
          ]
        }
      ]
    },
    {
      "cell_type": "code",
      "metadata": {
        "id": "nPMJ6gbpfeEd",
        "colab": {
          "base_uri": "https://localhost:8080/"
        },
        "outputId": "9e981903-8f2f-4e26-a3f0-fb1143fec4ed"
      },
      "source": [
        "# sanity checks\n",
        "\n",
        "# 77 community areas\n",
        "print('number of CAs:',len(ca_data))\n",
        "\n",
        "# 15 PCPs\n",
        "print('number of PCPs:',len([x for x in ca_data if ca_data[x]['PCP']]))"
      ],
      "execution_count": 10,
      "outputs": [
        {
          "output_type": "stream",
          "name": "stdout",
          "text": [
            "number of CAs: 77\n",
            "number of PCPs: 15\n"
          ]
        }
      ]
    },
    {
      "cell_type": "code",
      "metadata": {
        "id": "L1IxHZUPE2Vh"
      },
      "source": [
        "# derivations\n",
        "\n",
        "for ca in ca_data:\n",
        "    # deaths per 100K\n",
        "    ca_data[ca]['deaths_per_100k'] = float(ca_data[ca]['deaths']/ca_data[ca]['pop'])*100000\n",
        "    # deaths since spring per 100K\n",
        "    ca_data[ca]['deaths_since_spring_per_100k'] = float(ca_data[ca]['deaths_since_spring']/ca_data[ca]['pop'])*100000\n"
      ],
      "execution_count": 11,
      "outputs": []
    },
    {
      "cell_type": "code",
      "metadata": {
        "id": "fNpRfTdIAPFT"
      },
      "source": [
        "# listify rows & re-label columns\n",
        "\n",
        "ca_rows = []\n",
        "for ca in ca_data:\n",
        "    relabeled_row = {\n",
        "        'Community Area': ca,\n",
        "        'Protect Chicago Plus?': '✶' if ca_data[ca]['PCP'] else None,\n",
        "        'Vulnerability Index': ca_data[ca]['CCVI'],\n",
        "        'Vaccination Rate': str(int(float(ca_data[ca]['complete_vax']))) + '%',\n",
        "        'Deaths per 100,000': round(ca_data[ca]['deaths_per_100k'],1),\n",
        "        'Deaths per 100,000 since spring': round(ca_data[ca]['deaths_since_spring_per_100k'],1),\n",
        "    }\n",
        "    ca_rows.append(relabeled_row)"
      ],
      "execution_count": 12,
      "outputs": []
    },
    {
      "cell_type": "code",
      "metadata": {
        "colab": {
          "base_uri": "https://localhost:8080/"
        },
        "id": "kC63ELoXMIo0",
        "outputId": "f31a904f-7d77-4585-ae4c-169e18e66f5c"
      },
      "source": [
        "ca_rows[0]"
      ],
      "execution_count": 13,
      "outputs": [
        {
          "output_type": "execute_result",
          "data": {
            "text/plain": [
              "{'Community Area': 'West Englewood',\n",
              " 'Protect Chicago Plus?': '✶',\n",
              " 'Vulnerability Index': '64',\n",
              " 'Vaccination Rate': '54%',\n",
              " 'Deaths per 100,000': 337.8,\n",
              " 'Deaths per 100,000 since spring': 56.9}"
            ]
          },
          "metadata": {},
          "execution_count": 13
        }
      ]
    },
    {
      "cell_type": "code",
      "metadata": {
        "id": "NNqn_wmiHmsQ"
      },
      "source": [
        "# write out\n",
        "headers = ['Community Area','Protect Chicago Plus?','Vulnerability Index',\n",
        "           'Vaccination Rate','Deaths per 100,000','Deaths per 100,000 since spring']\n",
        "output_file = open(output_file_path,'w')\n",
        "output_csv = csv.DictWriter(output_file,headers)\n",
        "output_csv.writeheader()\n",
        "output_csv.writerows(ca_rows)\n",
        "output_file.close()"
      ],
      "execution_count": 14,
      "outputs": []
    }
  ]
}